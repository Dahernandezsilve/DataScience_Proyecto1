{
 "cells": [
  {
   "cell_type": "markdown",
   "metadata": {},
   "source": [
    "### Limpieza de Código, Distrito, Departamento, Municipio (David Aragón)"
   ]
  },
  {
   "cell_type": "code",
   "execution_count": 1,
   "metadata": {},
   "outputs": [],
   "source": [
    "import pandas as pd\n",
    "import numpy as np\n",
    "from sklearn.preprocessing import LabelEncoder"
   ]
  },
  {
   "cell_type": "code",
   "execution_count": 2,
   "metadata": {},
   "outputs": [],
   "source": [
    "data = pd.read_csv('UnifiedData/UnifiedDataV3.csv')"
   ]
  },
  {
   "cell_type": "code",
   "execution_count": 3,
   "metadata": {},
   "outputs": [
    {
     "data": {
      "text/html": [
       "<div>\n",
       "<style scoped>\n",
       "    .dataframe tbody tr th:only-of-type {\n",
       "        vertical-align: middle;\n",
       "    }\n",
       "\n",
       "    .dataframe tbody tr th {\n",
       "        vertical-align: top;\n",
       "    }\n",
       "\n",
       "    .dataframe thead th {\n",
       "        text-align: right;\n",
       "    }\n",
       "</style>\n",
       "<table border=\"1\" class=\"dataframe\">\n",
       "  <thead>\n",
       "    <tr style=\"text-align: right;\">\n",
       "      <th></th>\n",
       "      <th>CODIGO</th>\n",
       "      <th>DISTRITO</th>\n",
       "      <th>DEPARTAMENTO</th>\n",
       "      <th>MUNICIPIO</th>\n",
       "    </tr>\n",
       "  </thead>\n",
       "  <tbody>\n",
       "    <tr>\n",
       "      <th>0</th>\n",
       "      <td>16-01-0138-46</td>\n",
       "      <td>16-031</td>\n",
       "      <td>ALTA VERAPAZ</td>\n",
       "      <td>COBAN</td>\n",
       "    </tr>\n",
       "    <tr>\n",
       "      <th>1</th>\n",
       "      <td>16-01-0139-46</td>\n",
       "      <td>16-031</td>\n",
       "      <td>ALTA VERAPAZ</td>\n",
       "      <td>COBAN</td>\n",
       "    </tr>\n",
       "    <tr>\n",
       "      <th>2</th>\n",
       "      <td>16-01-0140-46</td>\n",
       "      <td>16-031</td>\n",
       "      <td>ALTA VERAPAZ</td>\n",
       "      <td>COBAN</td>\n",
       "    </tr>\n",
       "    <tr>\n",
       "      <th>3</th>\n",
       "      <td>16-01-0141-46</td>\n",
       "      <td>16-005</td>\n",
       "      <td>ALTA VERAPAZ</td>\n",
       "      <td>COBAN</td>\n",
       "    </tr>\n",
       "    <tr>\n",
       "      <th>4</th>\n",
       "      <td>16-01-0142-46</td>\n",
       "      <td>16-005</td>\n",
       "      <td>ALTA VERAPAZ</td>\n",
       "      <td>COBAN</td>\n",
       "    </tr>\n",
       "    <tr>\n",
       "      <th>...</th>\n",
       "      <td>...</td>\n",
       "      <td>...</td>\n",
       "      <td>...</td>\n",
       "      <td>...</td>\n",
       "    </tr>\n",
       "    <tr>\n",
       "      <th>9325</th>\n",
       "      <td>19-09-0040-46</td>\n",
       "      <td>19-021</td>\n",
       "      <td>ZACAPA</td>\n",
       "      <td>LA UNION</td>\n",
       "    </tr>\n",
       "    <tr>\n",
       "      <th>9326</th>\n",
       "      <td>19-09-0048-46</td>\n",
       "      <td>19-021</td>\n",
       "      <td>ZACAPA</td>\n",
       "      <td>LA UNION</td>\n",
       "    </tr>\n",
       "    <tr>\n",
       "      <th>9327</th>\n",
       "      <td>19-10-0013-46</td>\n",
       "      <td>19-015</td>\n",
       "      <td>ZACAPA</td>\n",
       "      <td>HUITE</td>\n",
       "    </tr>\n",
       "    <tr>\n",
       "      <th>9328</th>\n",
       "      <td>19-10-1009-46</td>\n",
       "      <td>19-015</td>\n",
       "      <td>ZACAPA</td>\n",
       "      <td>HUITE</td>\n",
       "    </tr>\n",
       "    <tr>\n",
       "      <th>9329</th>\n",
       "      <td>19-11-0018-46</td>\n",
       "      <td>19-020</td>\n",
       "      <td>ZACAPA</td>\n",
       "      <td>SAN JORGE</td>\n",
       "    </tr>\n",
       "  </tbody>\n",
       "</table>\n",
       "<p>9330 rows × 4 columns</p>\n",
       "</div>"
      ],
      "text/plain": [
       "             CODIGO DISTRITO  DEPARTAMENTO  MUNICIPIO\n",
       "0     16-01-0138-46   16-031  ALTA VERAPAZ      COBAN\n",
       "1     16-01-0139-46   16-031  ALTA VERAPAZ      COBAN\n",
       "2     16-01-0140-46   16-031  ALTA VERAPAZ      COBAN\n",
       "3     16-01-0141-46   16-005  ALTA VERAPAZ      COBAN\n",
       "4     16-01-0142-46   16-005  ALTA VERAPAZ      COBAN\n",
       "...             ...      ...           ...        ...\n",
       "9325  19-09-0040-46   19-021        ZACAPA   LA UNION\n",
       "9326  19-09-0048-46   19-021        ZACAPA   LA UNION\n",
       "9327  19-10-0013-46   19-015        ZACAPA      HUITE\n",
       "9328  19-10-1009-46   19-015        ZACAPA      HUITE\n",
       "9329  19-11-0018-46   19-020        ZACAPA  SAN JORGE\n",
       "\n",
       "[9330 rows x 4 columns]"
      ]
     },
     "execution_count": 3,
     "metadata": {},
     "output_type": "execute_result"
    }
   ],
   "source": [
    "data[['CODIGO', 'DISTRITO', 'DEPARTAMENTO', 'MUNICIPIO']]"
   ]
  },
  {
   "cell_type": "markdown",
   "metadata": {},
   "source": [
    "La variable CODIGO al ser una variable de identificacion no es relevante, por lo que no se estara tabajando con esta variable"
   ]
  },
  {
   "cell_type": "code",
   "execution_count": 4,
   "metadata": {},
   "outputs": [],
   "source": [
    "# Función para limpiar datos categóricos nominales\n",
    "def limpiarDatosCategNominales(data):\n",
    "    columnas = ['DISTRITO', 'DEPARTAMENTO', 'MUNICIPIO']\n",
    "\n",
    "    print(\"🔍 Verificando valores nulos en cada columna...\")\n",
    "    display(data[columnas].isnull().sum())\n",
    "    print()\n",
    "\n",
    "    # Convertir a tipo 'category'\n",
    "    print(\"🔄 Convirtiendo columnas a tipo 'category'...\")\n",
    "    for col in columnas:\n",
    "        data[col] = data[col].astype('category')\n",
    "        print(f\"✅ Columna {col} convertida correctamente.\")\n",
    "    print()\n",
    "\n",
    "    # Mostrar categorías únicas de cada columna\n",
    "    print(\"🔢 Mostrando categorías únicas por columna:\")\n",
    "    for col in columnas:\n",
    "        print(f\"📊 {col}: {data[col].cat.categories}\")\n",
    "    print()\n",
    "\n",
    "    return data"
   ]
  },
  {
   "cell_type": "code",
   "execution_count": 5,
   "metadata": {},
   "outputs": [
    {
     "name": "stdout",
     "output_type": "stream",
     "text": [
      "🔍 Verificando valores nulos en cada columna...\n"
     ]
    },
    {
     "data": {
      "text/plain": [
       "DISTRITO        208\n",
       "DEPARTAMENTO      0\n",
       "MUNICIPIO         0\n",
       "dtype: int64"
      ]
     },
     "metadata": {},
     "output_type": "display_data"
    },
    {
     "name": "stdout",
     "output_type": "stream",
     "text": [
      "\n",
      "🔄 Convirtiendo columnas a tipo 'category'...\n",
      "✅ Columna DISTRITO convertida correctamente.\n",
      "✅ Columna DEPARTAMENTO convertida correctamente.\n",
      "✅ Columna MUNICIPIO convertida correctamente.\n",
      "\n",
      "🔢 Mostrando categorías únicas por columna:\n",
      "📊 DISTRITO: Index(['01-', '01-001', '01-101', '01-102', '01-103', '01-104', '01-105',\n",
      "       '01-106', '01-107', '01-108',\n",
      "       ...\n",
      "       '22-032', '22-033', '22-034', '22-035', '22-036', '22-037', '22-038',\n",
      "       '22-039', '25-000', '99-001'],\n",
      "      dtype='object', length=690)\n",
      "📊 DEPARTAMENTO: Index(['ALTA VERAPAZ', 'BAJA VERAPAZ', 'CHIMALTENANGO', 'CHIQUIMULA',\n",
      "       'CIUDAD CAPITAL', 'EL PROGRESO', 'ESCUINTLA', 'GUATEMALA',\n",
      "       'HUEHUETENANGO', 'IZABAL', 'JALAPA', 'JUTIAPA', 'PETEN',\n",
      "       'QUETZALTENANGO', 'QUICHE', 'RETALHULEU', 'SACATEPEQUEZ', 'SAN MARCOS',\n",
      "       'SANTA ROSA', 'SOLOLA', 'SUCHITEPEQUEZ', 'TOTONICAPAN', 'ZACAPA'],\n",
      "      dtype='object')\n",
      "📊 MUNICIPIO: Index(['ACATENANGO', 'AGUA BLANCA', 'AGUACATAN', 'ALMOLONGA', 'ALOTENANGO',\n",
      "       'AMATITLAN', 'ANTIGUA GUATEMALA', 'ASUNCION MITA', 'ATESCATEMPA',\n",
      "       'AYUTLA',\n",
      "       ...\n",
      "       'ZONA 24', 'ZONA 3', 'ZONA 4', 'ZONA 5', 'ZONA 6', 'ZONA 7', 'ZONA 8',\n",
      "       'ZONA 9', 'ZUNIL', 'ZUNILITO'],\n",
      "      dtype='object', length=349)\n",
      "\n"
     ]
    }
   ],
   "source": [
    "# Limpiar datos categóricos\n",
    "data = limpiarDatosCategNominales(data)"
   ]
  },
  {
   "cell_type": "code",
   "execution_count": 6,
   "metadata": {},
   "outputs": [],
   "source": [
    "# Función para agrupar distritos por prefijo\n",
    "def agruparPorPrefijo(data, columna, longitud_prefijo=2, nuevaCategoria='Otros'):\n",
    "    print(f\"🔧 Agrupando categorías en la columna '{columna}' por prefijos...\")\n",
    "    \n",
    "    # Extraer los primeros 'longitud_prefijo' dígitos\n",
    "    prefijos = data[columna].str[:longitud_prefijo]\n",
    "    \n",
    "    # Crear un mapeo de prefijos a la nueva categoría\n",
    "    categorias_prefijo = prefijos.unique()\n",
    "    print(\"Categorías originales:\", categorias_prefijo)\n",
    "    \n",
    "    # Agrupar todas las categorías con el mismo prefijo bajo una nueva categoría\n",
    "    data[columna] = data[columna].apply(lambda x: f\"{x[:longitud_prefijo]}\" if x else x)\n",
    "    \n",
    "    print(f\"✅ Las categorías han sido agrupadas por prefijos en '{nuevaCategoria}'.\")\n",
    "    \n",
    "    # Convertir nuevamente a categoría para optimizar\n",
    "    data[columna] = data[columna].astype('category')\n",
    "\n",
    "    return data"
   ]
  },
  {
   "cell_type": "code",
   "execution_count": 7,
   "metadata": {},
   "outputs": [
    {
     "name": "stdout",
     "output_type": "stream",
     "text": [
      "🔧 Agrupando categorías en la columna 'DISTRITO' por prefijos...\n",
      "Categorías originales: ['16' nan '25' '15' '04' '20' '99' '01' '02' '05' '13' '18' '21' '22' '17'\n",
      " '09' '14' '11' '03' '06' '12' '07' '10' '08' '19']\n",
      "✅ Las categorías han sido agrupadas por prefijos en 'Otros'.\n"
     ]
    }
   ],
   "source": [
    "# Agrupar distritos por prefijo\n",
    "data = agruparPorPrefijo(data, 'DISTRITO')"
   ]
  },
  {
   "cell_type": "code",
   "execution_count": 8,
   "metadata": {},
   "outputs": [],
   "source": [
    "# Función para contar categorías\n",
    "def contarCategorias(data, columna):\n",
    "    print(f\"🔍 Contando categorías en la columna '{columna}'...\")\n",
    "    conteoCategorias = data[columna].value_counts()\n",
    "    print(\"📊 Conteo de cada categoría:\")\n",
    "    display(conteoCategorias)\n",
    "    return conteoCategorias"
   ]
  },
  {
   "cell_type": "code",
   "execution_count": 9,
   "metadata": {},
   "outputs": [
    {
     "name": "stdout",
     "output_type": "stream",
     "text": [
      "🔍 Contando categorías en la columna 'DISTRITO'...\n",
      "📊 Conteo de cada categoría:\n"
     ]
    },
    {
     "data": {
      "text/plain": [
       "DISTRITO\n",
       "01    2896\n",
       "05     617\n",
       "12     555\n",
       "13     510\n",
       "09     472\n",
       "10     378\n",
       "16     371\n",
       "18     366\n",
       "04     356\n",
       "17     354\n",
       "03     317\n",
       "11     313\n",
       "22     303\n",
       "14     242\n",
       "20     167\n",
       "06     155\n",
       "21     150\n",
       "07     136\n",
       "02     122\n",
       "15     112\n",
       "19      90\n",
       "08      88\n",
       "99      34\n",
       "25      18\n",
       "Name: count, dtype: int64"
      ]
     },
     "metadata": {},
     "output_type": "display_data"
    },
    {
     "data": {
      "text/plain": [
       "DISTRITO\n",
       "01    2896\n",
       "05     617\n",
       "12     555\n",
       "13     510\n",
       "09     472\n",
       "10     378\n",
       "16     371\n",
       "18     366\n",
       "04     356\n",
       "17     354\n",
       "03     317\n",
       "11     313\n",
       "22     303\n",
       "14     242\n",
       "20     167\n",
       "06     155\n",
       "21     150\n",
       "07     136\n",
       "02     122\n",
       "15     112\n",
       "19      90\n",
       "08      88\n",
       "99      34\n",
       "25      18\n",
       "Name: count, dtype: int64"
      ]
     },
     "execution_count": 9,
     "metadata": {},
     "output_type": "execute_result"
    }
   ],
   "source": [
    "# Verificar el resultado\n",
    "contarCategorias(data, 'DISTRITO')"
   ]
  },
  {
   "cell_type": "code",
   "execution_count": 10,
   "metadata": {},
   "outputs": [],
   "source": [
    "# Función para analizar la distribución de una columna categórica\n",
    "def analizarDistribucionColumna(data, columna, umbral=0.05, flag=False):\n",
    "    print(f\"🔍 Analizando la distribución de la columna '{columna}'...\")\n",
    "    distribucion = data[columna].value_counts(normalize=True)\n",
    "    print(\"📊 Distribución de frecuencias:\")\n",
    "    display(distribucion)\n",
    "\n",
    "    categoriasAgrupar = distribucion[distribucion < umbral].index.tolist()\n",
    "\n",
    "    if categoriasAgrupar:\n",
    "        print(f\"⚠️ Se sugiere agrupar las siguientes categorías en '{columna}': {categoriasAgrupar}\\n\")\n",
    "    else:\n",
    "        print(\"✅ No es necesario agrupar categorías en esta columna.\\n\")\n",
    "\n",
    "    if flag:\n",
    "        return distribucion"
   ]
  },
  {
   "cell_type": "code",
   "execution_count": 11,
   "metadata": {},
   "outputs": [
    {
     "name": "stdout",
     "output_type": "stream",
     "text": [
      "🔍 Analizando la distribución de la columna 'DISTRITO'...\n",
      "📊 Distribución de frecuencias:\n"
     ]
    },
    {
     "data": {
      "text/plain": [
       "DISTRITO\n",
       "01    0.317474\n",
       "05    0.067639\n",
       "12    0.060842\n",
       "13    0.055909\n",
       "09    0.051743\n",
       "10    0.041438\n",
       "16    0.040671\n",
       "18    0.040123\n",
       "04    0.039027\n",
       "17    0.038807\n",
       "03    0.034751\n",
       "11    0.034313\n",
       "22    0.033216\n",
       "14    0.026529\n",
       "20    0.018307\n",
       "06    0.016992\n",
       "21    0.016444\n",
       "07    0.014909\n",
       "02    0.013374\n",
       "15    0.012278\n",
       "19    0.009866\n",
       "08    0.009647\n",
       "99    0.003727\n",
       "25    0.001973\n",
       "Name: proportion, dtype: float64"
      ]
     },
     "metadata": {},
     "output_type": "display_data"
    },
    {
     "name": "stdout",
     "output_type": "stream",
     "text": [
      "⚠️ Se sugiere agrupar las siguientes categorías en 'DISTRITO': ['10', '16', '18', '04', '17', '03', '11', '22', '14', '20', '06', '21', '07', '02', '15', '19', '08', '99', '25']\n",
      "\n",
      "🔍 Analizando la distribución de la columna 'DEPARTAMENTO'...\n",
      "📊 Distribución de frecuencias:\n"
     ]
    },
    {
     "data": {
      "text/plain": [
       "DEPARTAMENTO\n",
       "CIUDAD CAPITAL    0.167631\n",
       "GUATEMALA         0.158307\n",
       "ESCUINTLA         0.067310\n",
       "SAN MARCOS        0.061522\n",
       "HUEHUETENANGO     0.055305\n",
       "QUETZALTENANGO    0.052626\n",
       "SUCHITEPEQUEZ     0.041265\n",
       "ALTA VERAPAZ      0.040086\n",
       "IZABAL            0.039443\n",
       "PETEN             0.039228\n",
       "CHIMALTENANGO     0.038478\n",
       "SACATEPEQUEZ      0.034191\n",
       "RETALHULEU        0.033869\n",
       "JUTIAPA           0.033226\n",
       "QUICHE            0.026152\n",
       "CHIQUIMULA        0.018221\n",
       "SANTA ROSA        0.016827\n",
       "JALAPA            0.016184\n",
       "SOLOLA            0.014791\n",
       "EL PROGRESO       0.013398\n",
       "BAJA VERAPAZ      0.012219\n",
       "ZACAPA            0.010075\n",
       "TOTONICAPAN       0.009646\n",
       "Name: proportion, dtype: float64"
      ]
     },
     "metadata": {},
     "output_type": "display_data"
    },
    {
     "name": "stdout",
     "output_type": "stream",
     "text": [
      "⚠️ Se sugiere agrupar las siguientes categorías en 'DEPARTAMENTO': ['SUCHITEPEQUEZ', 'ALTA VERAPAZ', 'IZABAL', 'PETEN', 'CHIMALTENANGO', 'SACATEPEQUEZ', 'RETALHULEU', 'JUTIAPA', 'QUICHE', 'CHIQUIMULA', 'SANTA ROSA', 'JALAPA', 'SOLOLA', 'EL PROGRESO', 'BAJA VERAPAZ', 'ZACAPA', 'TOTONICAPAN']\n",
      "\n",
      "🔍 Analizando la distribución de la columna 'MUNICIPIO'...\n",
      "📊 Distribución de frecuencias:\n"
     ]
    },
    {
     "data": {
      "text/plain": [
       "MUNICIPIO\n",
       "ZONA 1                       0.067846\n",
       "MIXCO                        0.045874\n",
       "VILLA NUEVA                  0.039657\n",
       "QUETZALTENANGO               0.026581\n",
       "RETALHULEU                   0.019829\n",
       "                               ...   \n",
       "SAN BARTOLOME JOCOTENANGO    0.000107\n",
       "SAN MARCOS LA LAGUNA         0.000107\n",
       "PETATAN                      0.000107\n",
       "CHICHE                       0.000107\n",
       "ZUNIL                        0.000107\n",
       "Name: proportion, Length: 349, dtype: float64"
      ]
     },
     "metadata": {},
     "output_type": "display_data"
    },
    {
     "name": "stdout",
     "output_type": "stream",
     "text": [
      "⚠️ Se sugiere agrupar las siguientes categorías en 'MUNICIPIO': ['MIXCO', 'VILLA NUEVA', 'QUETZALTENANGO', 'RETALHULEU', 'ZONA 7', 'MAZATENANGO', 'ESCUINTLA', 'CHIMALTENANGO', 'HUEHUETENANGO', 'PUERTO BARRIOS', 'SAN MIGUEL PETAPA', 'MORALES', 'ZONA 12', 'AMATITLAN', 'SANTA LUCIA COTZUMALGUAPA', 'ANTIGUA GUATEMALA', 'COBAN', 'ZONA 18', 'JUTIAPA', 'SAN JUAN SACATEPEQUEZ', 'MALACATAN', 'COATEPEQUE', 'JALAPA', 'SAN PEDRO SACATEPEQUEZ', 'LA LIBERTAD', 'ZONA 6', 'VILLA CANALES', 'SAN MARCOS', 'TIQUISATE', 'ZONA 11', 'SANTA CRUZ DEL QUICHE', 'LA DEMOCRACIA', 'SAN JOSE', 'CHINAUTLA', 'CHIQUIMULA', 'ZONA 2', 'ZONA 19', 'ZONA 13', 'SAN BENITO', 'SAN PEDRO CARCHA', 'SAN JOSE PINULA', 'NUEVA CONCEPCION', 'ZACAPA', 'FLORES', 'PALIN', 'LIVINGSTON', 'IXCAN', 'FRAIJANES', 'ZONA 3', 'TOTONICAPAN', 'SOLOLA', 'SAYAXCHE', 'SAN AGUSTIN ACASAGUASTLAN', 'SAN CRISTOBAL VERAPAZ', 'LOS AMATES', 'ZONA 21', 'SALAMA', 'CHIQUIMULILLA', 'ZONA 5', 'CIUDAD VIEJA', 'SANTA CRUZ BARILLAS', 'SANTA CATARINA PINULA', 'JALPATAGUA', 'COMITANCILLO', 'JACALTENANGO', 'ZONA 9', 'SUMPANGO', 'ESQUIPULAS', 'MASAGUA', 'SAN ANTONIO SUCHITEPEQUEZ', 'TACANA', 'BARBERENA', 'ZONA 10', 'SAN JUAN OSTUNCALCO', 'PALENCIA', 'SANARATE', 'POPTUN', 'LA GOMERA', 'SAN JUAN COMALAPA', 'LAS CRUCES', 'CHIANTLA', 'SAN LUCAS SACATEPEQUEZ', 'JOCOTENANGO', 'PATULUL', 'TACTIC', 'SAN MARTIN JILOTEPEQUE', 'SAN LUIS', 'ASUNCION MITA', 'SAN ANDRES VILLA SECA', 'CUYOTENANGO', 'GUASTATOYA', 'TECPAN GUATEMALA', 'SANTO TOMAS LA UNION', 'AYUTLA', 'SAN CRISTOBAL TOTONICAPAN', 'JOCOTAN', 'NEBAJ', 'SAN PABLO', 'MOYUTA', 'LA TINTA', 'SAN SEBASTIAN', 'QUEZALTEPEQUE', 'NUEVA SANTA ROSA', 'ZONA 17', 'DOLORES', 'SANTA LUCIA MILPAS ALTAS', 'SAN MIGUEL CHICAJ', 'NUEVO PROGRESO', 'RABINAL', 'EL TUMBADOR', 'CONCEPCION TUTUAPA', 'MATAQUESCUINTLA', 'PANAJACHEL', 'SAN MIGUEL USPANTAN', 'NUEVO SAN CARLOS', 'EL ASINTAL', 'AGUACATAN', 'PANZOS', 'SAN JUAN CHAMELCO', 'ZARAGOZA', 'PATZUN', 'CUILAPA', 'COMAPA', 'SAN LORENZO', 'SANTA EULALIA', 'MALACATANCITO', 'SAN FRANCISCO ZAPOTITLAN', 'SENAHU', 'SIQUINALA', 'ATESCATEMPA', 'MONJAS', 'MELCHOR DE MENCOS', 'LA ESPERANZA', 'ZONA 16', 'SAN ANDRES', 'SAN RAFAEL PIE DE LA CUESTA', 'SAN MARTIN ZAPOTITLAN', 'SAN JOSE LA MAQUINA', 'QUESADA', 'SAN RAYMUNDO', 'SAN PEDRO AYAMPUC', 'CHISEC', 'CHICACAO', 'SAN ILDEFONSO IXTAHUACAN', 'SAN FELIPE', 'SAN PEDRO SOLOMA', 'SANTIAGO SACATEPEQUEZ', 'LA BLANCA', 'PAJAPITA', 'SANTO TOMAS CHICHICASTENANGO', 'SIPACAPA', 'YUPILTEPEQUE', 'TEJUTLA', 'FRAY BARTOLOME DE LAS CASAS', 'IPALA', 'EL ESTOR', 'TECULUTAN', 'SANTA MARIA CAHABON', 'SAN PEDRO NECTA', 'SANTA ANA', 'ZONA 14', 'CATARINA', 'SAN ANTONIO HUISTA', 'CUILCO', 'CHAMPERICO', 'SAN LUIS JILOTEPEQUE', 'SAN ANDRES ITZAPA', 'PACHALUN', 'SAN MIGUEL IXTAHUACAN', 'EL CHAL', 'EL PROGRESO', 'CONGUACO', 'CHICAMAN', 'SAN PEDRO YEPOCAPA', 'IZTAPA', 'PURULHA', 'SAN JOSE POAQUIL', 'PASTORES', 'SANTA CATARINA MITA', 'EL JICARO', 'SAN VICENTE PACAYA', 'NENTON', 'SANTA LUCIA UTATLAN', 'SANSARE', 'PARRAMOS', 'SAN MARTIN SACATEPEQUEZ', 'SAN LUCAS TOLIMAN', 'SAN JOSE OJETENAM', 'ZONA 15', 'GENOVA COSTA CUCA', 'JOYABAJ', 'GUALAN', 'COLOMBA COSTA CUCA', 'TAXISCO', 'TODOS SANTOS CUCHUMATAN', 'CUBULCO', 'SANTIAGO ATITLAN', 'SANTA BARBARA', 'SALCAJA', 'SAN SEBASTIAN COATAN', 'ORATORIO', 'SAN CARLOS ALZATATE', 'SAN FRANCISCO', 'CANTEL', 'SAN MATEO IXTATAN', 'RAXRUHA', 'LANQUIN', 'SAN JOSE ACATEMPA', 'SAN PEDRO LA LAGUNA', 'SAN MIGUEL DUENAS', 'MOMOSTENANGO', 'SANTO DOMINGO SUCHITEPEQUEZ', 'GRANADOS', 'GUANAGAZAPA', 'EL TEJAR', 'ALOTENANGO', 'SAN GABRIEL', 'SAN JUAN IXCOY', 'CHAJUL', 'SAMAYAC', 'PASACO', 'FLORES COSTA CUCA', 'CUNEN', 'SIPACATE', 'SAN CARLOS SIJA', 'GUAZACAPAN', 'SANTA CATARINA IXTAHUACAN', 'IXCHIGUAN', 'CONCEPCION HUISTA', 'SAN ANDRES SAJCABAJA', 'NAHUALA', 'SAN PEDRO PINULA', 'SAN PABLO JOCOPILAS', 'COLOTENANGO', 'RIO BRAVO', 'SAN ANDRES SEMETABAJ', 'CASILLAS', 'CONCEPCION LAS MINAS', 'UNION CANTINIL', 'ACATENANGO', 'CABRICAN', 'CAMOTAN', 'CHAHAL', 'SAN JOSE DEL GOLFO', 'SIBINAL', 'SANTO DOMINGO XENACOJ', 'SANTA MARIA IXHUATAN', 'SAN JERONIMO', 'LA REFORMA', 'SAN MIGUEL POCHUTA', 'TAJUMULCO', 'AGUA BLANCA', 'PATZICIA', 'SACAPULAS', 'SAN ANTONIO LA PAZ', 'ESQUIPULAS PALO GORDO', 'SANTA MARIA CHIQUIMULA', 'SAN SEBASTIAN HUEHUETENANGO', 'OCOS', 'SAN MIGUEL TUCURU', 'SAN BARTOLOME MILPAS ALTAS', 'CHUARRANCHO', 'MORAZAN', 'HUITAN', 'OLINTEPEQUE', 'SANTA APOLONIA', 'SAN MANUEL CHAPARRON', 'SAN JOSE EL RODEO', 'CANILLA', 'SAN FRANCISCO EL ALTO', 'CABAÑAS', 'PALESTINA DE LOS ALTOS', 'LA UNION', 'SAN RAFAEL LAS FLORES', 'SANTIAGO CHIMALTENANGO', 'EL PALMAR', 'RIO BLANCO', 'SAN JUAN LA LAGUNA', 'ZONA 8', 'SANTA MARIA VISITACION', 'SAN CRISTOBAL ACASAGUASTLAN', 'SAN JOSE LA ARADA', 'SAN CRISTOBAL CUCHO', 'SAN ANDRES XECUL', 'MAGDALENA MILPAS ALTAS', 'SANTA MARIA DE JESUS', 'SANTA CRUZ MULUA', 'SANTA CRUZ VERAPAZ', 'SANTA CLARA LA LAGUNA', 'SAN ANTONIO AGUAS CALIENTES', 'SAN JUAN TECUACO', 'ZACUALPA', 'EL ADELANTO', 'SANTA CATARINA BARAHONA', 'SANTA CRUZ EL CHOL', 'ZONA 4', 'SAN JOSE EL IDOLO', 'SAN DIEGO', 'SAN JUAN ERMITA', 'SAN JUAN COTZAL', 'ZAPOTITLAN', 'ZUNILITO', 'TECTITAN', 'USUMATLAN', 'CONCEPCION CHIQUIRICHAPA', 'SIBILIA', 'CHINIQUE', 'SAN RAFAEL PETZAL', 'SAN PEDRO JOCOPILAS', 'PUEBLO NUEVO', 'SAN BERNARDINO', 'RIO HONDO', 'PUEBLO NUEVO VIÑAS', 'SANTA ROSA DE LIMA', 'SAN RAFAEL LA INDEPENDENCIA', 'SANTA ANA HUISTA', 'ESTANZUELA', 'GUATEMALA', 'SANTA CRUZ NARANJO', 'EL QUETZAL', 'ALMOLONGA', 'SAN JACINTO', 'ZONA 24', 'SANTA LUCIA LA REFORMA', 'HUITE', 'SAN MATEO', 'SAN ANTONIO SACATEPEQUEZ', 'SAN PABLO LA LAGUNA', 'SAN MIGUEL ACATAN', 'SAN ANTONIO ILOTENANGO', 'OLOPA', 'JEREZ', 'SANTA CRUZ BALANYA', 'TAMAHU', 'SAN JUAN ATITAN', 'SAN JOSE CHACAYA', 'CAJOLA', 'SAN FRANCISCO LA UNION', 'SAN JORGE', 'PATZITE', 'SAN MIGUEL SIGUILA', 'SAN ANTONIO PALOPO', 'SAN BARTOLO AGUAS CALIENTES', 'SAN BARTOLOME JOCOTENANGO', 'SAN MARCOS LA LAGUNA', 'PETATAN', 'CHICHE', 'ZUNIL']\n",
      "\n"
     ]
    }
   ],
   "source": [
    "# Analizar distribución de columnas\n",
    "analizarDistribucionColumna(data, 'DISTRITO')\n",
    "analizarDistribucionColumna(data, 'DEPARTAMENTO')\n",
    "analizarDistribucionColumna(data, 'MUNICIPIO')"
   ]
  },
  {
   "cell_type": "code",
   "execution_count": 12,
   "metadata": {},
   "outputs": [],
   "source": [
    "# Función para agrupar categorías\n",
    "def agruparCategorias(data, columna, categoriasAgrupar, nuevaCategoria='Otras'):\n",
    "    print(f\"🔧 Agrupando categorías en la columna '{columna}'...\")\n",
    "    data[columna] = data[columna].apply(lambda x: nuevaCategoria if x in categoriasAgrupar else x)\n",
    "    print(f\"✅ Las categorías {categoriasAgrupar} se han agrupado bajo '{nuevaCategoria}'.\")\n",
    "    \n",
    "    # Convertir nuevamente a categoría para optimizar\n",
    "    data[columna] = data[columna].astype('category')\n",
    "\n",
    "    return data"
   ]
  },
  {
   "cell_type": "code",
   "execution_count": 13,
   "metadata": {},
   "outputs": [
    {
     "name": "stdout",
     "output_type": "stream",
     "text": [
      "🔧 Agrupando categorías en la columna 'DEPARTAMENTO'...\n",
      "✅ Las categorías ['SUCHITEPEQUEZ', 'ALTA VERAPAZ', 'IZABAL', 'PETEN', 'CHIMALTENANGO', 'SACATEPEQUEZ', 'RETALHULEU', 'JUTIAPA', 'QUICHE', 'CHIQUIMULA', 'SANTA ROSA', 'JALAPA', 'SOLOLA', 'EL PROGRESO', 'BAJA VERAPAZ', 'ZACAPA', 'TOTONICAPAN'] se han agrupado bajo 'Otros'.\n"
     ]
    }
   ],
   "source": [
    "# Agrupar categorías en 'DEPARTAMENTO'\n",
    "categorias_para_agrupar = ['SUCHITEPEQUEZ', 'ALTA VERAPAZ', 'IZABAL', 'PETEN', 'CHIMALTENANGO', 'SACATEPEQUEZ', 'RETALHULEU', 'JUTIAPA', 'QUICHE', 'CHIQUIMULA', 'SANTA ROSA', 'JALAPA', 'SOLOLA', 'EL PROGRESO', 'BAJA VERAPAZ', 'ZACAPA', 'TOTONICAPAN']\n",
    "data = agruparCategorias(data, 'DEPARTAMENTO', categorias_para_agrupar, nuevaCategoria='Otros')\n"
   ]
  },
  {
   "cell_type": "code",
   "execution_count": 14,
   "metadata": {},
   "outputs": [
    {
     "name": "stdout",
     "output_type": "stream",
     "text": [
      "🔧 Agrupando categorías en la columna 'DISTRITO'...\n",
      "✅ Las categorías ['10', '16', '18', '04', '17', '03', '11', '22', '14', '20', '06', '21', '07', '02', '15', '19', '08', '99', '25'] se han agrupado bajo 'Otros'.\n"
     ]
    }
   ],
   "source": [
    "# Lista de categorías a agrupar en 'DISTRITO'\n",
    "categoriasParaAgrupar = ['10', '16', '18', '04', '17', \n",
    "                         '03', '11', '22', '14', '20', \n",
    "                         '06', '21', '07', '02', '15', \n",
    "                         '19', '08', '99', '25']\n",
    "\n",
    "# Agrupar las categorías en 'DISTRITO'\n",
    "data = agruparCategorias(data, 'DISTRITO', categoriasParaAgrupar, nuevaCategoria='Otros')"
   ]
  },
  {
   "cell_type": "code",
   "execution_count": 15,
   "metadata": {},
   "outputs": [
    {
     "name": "stdout",
     "output_type": "stream",
     "text": [
      "🔧 Reemplazando valores nulos en la columna 'DISTRITO' con 'No identificado'...\n",
      "✅ Los valores nulos en la columna 'DISTRITO' se han reemplazado con 'No identificado'.\n",
      "🔍 Contando categorías en la columna 'DISTRITO'...\n",
      "📊 Conteo de cada categoría:\n"
     ]
    },
    {
     "data": {
      "text/plain": [
       "DISTRITO\n",
       "Otros    4072\n",
       "01       2896\n",
       "05        617\n",
       "12        555\n",
       "13        510\n",
       "09        472\n",
       "Name: count, dtype: int64"
      ]
     },
     "metadata": {},
     "output_type": "display_data"
    },
    {
     "data": {
      "text/plain": [
       "DISTRITO\n",
       "Otros    4072\n",
       "01       2896\n",
       "05        617\n",
       "12        555\n",
       "13        510\n",
       "09        472\n",
       "Name: count, dtype: int64"
      ]
     },
     "execution_count": 15,
     "metadata": {},
     "output_type": "execute_result"
    }
   ],
   "source": [
    "# Función para reemplazar valores nulos en los distritos agrupados\n",
    "def reemplazarDistritosVacios(data, columna_distrito, valor_reemplazo='No identificado'):\n",
    "    \"\"\"\n",
    "    Reemplaza los valores nulos en una columna específica por un valor dado.\n",
    "\n",
    "    Parámetros:\n",
    "    - data: DataFrame que contiene los datos.\n",
    "    - columna_distrito: Nombre de la columna de distritos.\n",
    "    - valor_reemplazo: Valor con el cual se reemplazarán los nulos.\n",
    "\n",
    "    Retorna:\n",
    "    - El DataFrame con la columna de distritos modificada.\n",
    "    \"\"\"\n",
    "    print(f\"🔧 Reemplazando valores nulos en la columna '{columna_distrito}' con '{valor_reemplazo}'...\")\n",
    "\n",
    "    # Identificar las filas donde el distrito está vacío y pertenece a la categoría 'Otros'\n",
    "    data[columna_distrito] = data[columna_distrito].replace(np.nan, valor_reemplazo)\n",
    "\n",
    "    print(f\"✅ Los valores nulos en la columna '{columna_distrito}' se han reemplazado con '{valor_reemplazo}'.\")\n",
    "\n",
    "    return data\n",
    "\n",
    "# Reemplazar valores nulos en los distritos agrupados en 'Otros'\n",
    "data = reemplazarDistritosVacios(data, 'DISTRITO')\n",
    "\n",
    "# Verificar el resultado\n",
    "contarCategorias(data, 'DISTRITO')"
   ]
  },
  {
   "cell_type": "code",
   "execution_count": 16,
   "metadata": {},
   "outputs": [],
   "source": [
    "# Función para convertir categorías a numéricas\n",
    "def convertirCategoriasANumericas(data, columns):\n",
    "    print(\"🔢 Convirtiendo categorías a representación numérica...\")\n",
    "    for col in columns:\n",
    "        labelEncoder = LabelEncoder()\n",
    "        data[f\"{col}_num\"] = labelEncoder.fit_transform(data[col])\n",
    "        print(f\"\\n🔍 Mapeo para la columna '{col}':\")\n",
    "        for categoria, numero in zip(labelEncoder.classes_, labelEncoder.transform(labelEncoder.classes_)):\n",
    "            print(f\"  {categoria} -> {numero}\")\n",
    "        print(f\"🆕 Columna {col}_num añadida con éxito.\")\n",
    "    return data"
   ]
  },
  {
   "cell_type": "code",
   "execution_count": 17,
   "metadata": {},
   "outputs": [
    {
     "name": "stdout",
     "output_type": "stream",
     "text": [
      "🔧 Agrupando municipios en la columna 'MUNICIPIO' para los departamentos agrupados...\n",
      "✅ Los municipios de los departamentos ['Otros'] se han agrupado bajo 'Otros'.\n",
      "🔍 Contando categorías en la columna 'MUNICIPIO'...\n",
      "📊 Conteo de cada categoría:\n"
     ]
    },
    {
     "data": {
      "text/plain": [
       "MUNICIPIO\n",
       "Otros                     4080\n",
       "ZONA 1                     633\n",
       "MIXCO                      428\n",
       "VILLA NUEVA                370\n",
       "QUETZALTENANGO             248\n",
       "                          ... \n",
       "SAN FRANCISCO LA UNION       1\n",
       "SAN JUAN ATITAN              1\n",
       "SAN MIGUEL SIGUILA           1\n",
       "SANTA BARBARA                1\n",
       "ZUNIL                        1\n",
       "Name: count, Length: 137, dtype: int64"
      ]
     },
     "metadata": {},
     "output_type": "display_data"
    },
    {
     "data": {
      "text/plain": [
       "MUNICIPIO\n",
       "Otros                     4080\n",
       "ZONA 1                     633\n",
       "MIXCO                      428\n",
       "VILLA NUEVA                370\n",
       "QUETZALTENANGO             248\n",
       "                          ... \n",
       "SAN FRANCISCO LA UNION       1\n",
       "SAN JUAN ATITAN              1\n",
       "SAN MIGUEL SIGUILA           1\n",
       "SANTA BARBARA                1\n",
       "ZUNIL                        1\n",
       "Name: count, Length: 137, dtype: int64"
      ]
     },
     "execution_count": 17,
     "metadata": {},
     "output_type": "execute_result"
    }
   ],
   "source": [
    "# Función para agrupar municipios basados en la categoría del departamento\n",
    "def agruparMunicipiosPorDepartamento(data, columna_municipio, columna_departamento, departamentos_agrupados, nuevaCategoria='Otros'):\n",
    "    \"\"\"\n",
    "    Agrupa municipios cuyos departamentos han sido agrupados bajo una categoría específica.\n",
    "\n",
    "    Parámetros:\n",
    "    - data: DataFrame que contiene los datos.\n",
    "    - columna_municipio: Nombre de la columna de municipios.\n",
    "    - columna_departamento: Nombre de la columna de departamentos.\n",
    "    - departamentos_agrupados: Lista de departamentos que han sido agrupados.\n",
    "    - nuevaCategoria: Nombre de la nueva categoría para los municipios.\n",
    "\n",
    "    Retorna:\n",
    "    - El DataFrame con la columna de municipios modificada.\n",
    "    \"\"\"\n",
    "    print(f\"🔧 Agrupando municipios en la columna '{columna_municipio}' para los departamentos agrupados...\")\n",
    "\n",
    "    # Reemplazar los municipios correspondientes a los departamentos agrupados\n",
    "    data[columna_municipio] = data.apply(\n",
    "        lambda x: nuevaCategoria if x[columna_departamento] in departamentos_agrupados else x[columna_municipio], axis=1)\n",
    "\n",
    "    print(f\"✅ Los municipios de los departamentos {departamentos_agrupados} se han agrupado bajo '{nuevaCategoria}'.\")\n",
    "\n",
    "    # Convertir nuevamente a categoría para optimizar\n",
    "    data[columna_municipio] = data[columna_municipio].astype('category')\n",
    "\n",
    "    return data\n",
    "\n",
    "# Lista de departamentos que se han agrupado en 'Otros'\n",
    "departamentos_agrupados = ['Otros']\n",
    "\n",
    "# Agrupar los municipios correspondientes a los departamentos agrupados\n",
    "data = agruparMunicipiosPorDepartamento(data, 'MUNICIPIO', 'DEPARTAMENTO', departamentos_agrupados, nuevaCategoria='Otros')\n",
    "\n",
    "# Verificar el resultado\n",
    "contarCategorias(data, 'MUNICIPIO')\n"
   ]
  },
  {
   "cell_type": "code",
   "execution_count": 18,
   "metadata": {},
   "outputs": [
    {
     "name": "stdout",
     "output_type": "stream",
     "text": [
      "🔢 Convirtiendo categorías a representación numérica...\n",
      "\n",
      "🔍 Mapeo para la columna 'DISTRITO':\n",
      "  01 -> 0\n",
      "  05 -> 1\n",
      "  09 -> 2\n",
      "  12 -> 3\n",
      "  13 -> 4\n",
      "  Otros -> 5\n",
      "  nan -> 6\n",
      "🆕 Columna DISTRITO_num añadida con éxito.\n",
      "\n",
      "🔍 Mapeo para la columna 'DEPARTAMENTO':\n",
      "  CIUDAD CAPITAL -> 0\n",
      "  ESCUINTLA -> 1\n",
      "  GUATEMALA -> 2\n",
      "  HUEHUETENANGO -> 3\n",
      "  Otros -> 4\n",
      "  QUETZALTENANGO -> 5\n",
      "  SAN MARCOS -> 6\n",
      "🆕 Columna DEPARTAMENTO_num añadida con éxito.\n",
      "\n",
      "🔍 Mapeo para la columna 'MUNICIPIO':\n",
      "  AGUACATAN -> 0\n",
      "  ALMOLONGA -> 1\n",
      "  AMATITLAN -> 2\n",
      "  AYUTLA -> 3\n",
      "  CABRICAN -> 4\n",
      "  CAJOLA -> 5\n",
      "  CANTEL -> 6\n",
      "  CATARINA -> 7\n",
      "  CHIANTLA -> 8\n",
      "  CHINAUTLA -> 9\n",
      "  CHUARRANCHO -> 10\n",
      "  COATEPEQUE -> 11\n",
      "  COLOMBA COSTA CUCA -> 12\n",
      "  COLOTENANGO -> 13\n",
      "  COMITANCILLO -> 14\n",
      "  CONCEPCION CHIQUIRICHAPA -> 15\n",
      "  CONCEPCION HUISTA -> 16\n",
      "  CONCEPCION TUTUAPA -> 17\n",
      "  CUILCO -> 18\n",
      "  EL PALMAR -> 19\n",
      "  EL QUETZAL -> 20\n",
      "  EL TUMBADOR -> 21\n",
      "  ESCUINTLA -> 22\n",
      "  ESQUIPULAS PALO GORDO -> 23\n",
      "  FLORES COSTA CUCA -> 24\n",
      "  FRAIJANES -> 25\n",
      "  GENOVA COSTA CUCA -> 26\n",
      "  GUANAGAZAPA -> 27\n",
      "  GUATEMALA -> 28\n",
      "  HUEHUETENANGO -> 29\n",
      "  HUITAN -> 30\n",
      "  IXCHIGUAN -> 31\n",
      "  IZTAPA -> 32\n",
      "  JACALTENANGO -> 33\n",
      "  LA BLANCA -> 34\n",
      "  LA DEMOCRACIA -> 35\n",
      "  LA ESPERANZA -> 36\n",
      "  LA GOMERA -> 37\n",
      "  LA LIBERTAD -> 38\n",
      "  LA REFORMA -> 39\n",
      "  MALACATAN -> 40\n",
      "  MALACATANCITO -> 41\n",
      "  MASAGUA -> 42\n",
      "  MIXCO -> 43\n",
      "  NENTON -> 44\n",
      "  NUEVA CONCEPCION -> 45\n",
      "  NUEVO PROGRESO -> 46\n",
      "  OCOS -> 47\n",
      "  OLINTEPEQUE -> 48\n",
      "  Otros -> 49\n",
      "  PAJAPITA -> 50\n",
      "  PALENCIA -> 51\n",
      "  PALESTINA DE LOS ALTOS -> 52\n",
      "  PALIN -> 53\n",
      "  PETATAN -> 54\n",
      "  QUETZALTENANGO -> 55\n",
      "  RIO BLANCO -> 56\n",
      "  SALCAJA -> 57\n",
      "  SAN ANTONIO HUISTA -> 58\n",
      "  SAN ANTONIO SACATEPEQUEZ -> 59\n",
      "  SAN CARLOS SIJA -> 60\n",
      "  SAN CRISTOBAL CUCHO -> 61\n",
      "  SAN FRANCISCO LA UNION -> 62\n",
      "  SAN ILDEFONSO IXTAHUACAN -> 63\n",
      "  SAN JOSE -> 64\n",
      "  SAN JOSE DEL GOLFO -> 65\n",
      "  SAN JOSE EL RODEO -> 66\n",
      "  SAN JOSE OJETENAM -> 67\n",
      "  SAN JOSE PINULA -> 68\n",
      "  SAN JUAN ATITAN -> 69\n",
      "  SAN JUAN IXCOY -> 70\n",
      "  SAN JUAN OSTUNCALCO -> 71\n",
      "  SAN JUAN SACATEPEQUEZ -> 72\n",
      "  SAN LORENZO -> 73\n",
      "  SAN MARCOS -> 74\n",
      "  SAN MARTIN SACATEPEQUEZ -> 75\n",
      "  SAN MATEO -> 76\n",
      "  SAN MATEO IXTATAN -> 77\n",
      "  SAN MIGUEL ACATAN -> 78\n",
      "  SAN MIGUEL IXTAHUACAN -> 79\n",
      "  SAN MIGUEL PETAPA -> 80\n",
      "  SAN MIGUEL SIGUILA -> 81\n",
      "  SAN PABLO -> 82\n",
      "  SAN PEDRO AYAMPUC -> 83\n",
      "  SAN PEDRO NECTA -> 84\n",
      "  SAN PEDRO SACATEPEQUEZ -> 85\n",
      "  SAN PEDRO SOLOMA -> 86\n",
      "  SAN RAFAEL LA INDEPENDENCIA -> 87\n",
      "  SAN RAFAEL PETZAL -> 88\n",
      "  SAN RAFAEL PIE DE LA CUESTA -> 89\n",
      "  SAN RAYMUNDO -> 90\n",
      "  SAN SEBASTIAN COATAN -> 91\n",
      "  SAN SEBASTIAN HUEHUETENANGO -> 92\n",
      "  SAN VICENTE PACAYA -> 93\n",
      "  SANTA ANA HUISTA -> 94\n",
      "  SANTA BARBARA -> 95\n",
      "  SANTA CATARINA PINULA -> 96\n",
      "  SANTA CRUZ BARILLAS -> 97\n",
      "  SANTA EULALIA -> 98\n",
      "  SANTA LUCIA COTZUMALGUAPA -> 99\n",
      "  SANTIAGO CHIMALTENANGO -> 100\n",
      "  SIBILIA -> 101\n",
      "  SIBINAL -> 102\n",
      "  SIPACAPA -> 103\n",
      "  SIPACATE -> 104\n",
      "  SIQUINALA -> 105\n",
      "  TACANA -> 106\n",
      "  TAJUMULCO -> 107\n",
      "  TECTITAN -> 108\n",
      "  TEJUTLA -> 109\n",
      "  TIQUISATE -> 110\n",
      "  TODOS SANTOS CUCHUMATAN -> 111\n",
      "  UNION CANTINIL -> 112\n",
      "  VILLA CANALES -> 113\n",
      "  VILLA NUEVA -> 114\n",
      "  ZONA 1 -> 115\n",
      "  ZONA 10 -> 116\n",
      "  ZONA 11 -> 117\n",
      "  ZONA 12 -> 118\n",
      "  ZONA 13 -> 119\n",
      "  ZONA 14 -> 120\n",
      "  ZONA 15 -> 121\n",
      "  ZONA 16 -> 122\n",
      "  ZONA 17 -> 123\n",
      "  ZONA 18 -> 124\n",
      "  ZONA 19 -> 125\n",
      "  ZONA 2 -> 126\n",
      "  ZONA 21 -> 127\n",
      "  ZONA 24 -> 128\n",
      "  ZONA 3 -> 129\n",
      "  ZONA 4 -> 130\n",
      "  ZONA 5 -> 131\n",
      "  ZONA 6 -> 132\n",
      "  ZONA 7 -> 133\n",
      "  ZONA 8 -> 134\n",
      "  ZONA 9 -> 135\n",
      "  ZUNIL -> 136\n",
      "🆕 Columna MUNICIPIO_num añadida con éxito.\n"
     ]
    }
   ],
   "source": [
    "# Convertir categorías a numéricas si es necesario\n",
    "data = convertirCategoriasANumericas(data, ['DISTRITO', 'DEPARTAMENTO', 'MUNICIPIO'])\n"
   ]
  },
  {
   "cell_type": "code",
   "execution_count": 19,
   "metadata": {},
   "outputs": [
    {
     "name": "stdout",
     "output_type": "stream",
     "text": [
      "MUNICIPIO\n",
      "Otros             43.729904\n",
      "ZONA 1             6.784566\n",
      "MIXCO              4.587353\n",
      "VILLA NUEVA        3.965702\n",
      "QUETZALTENANGO     2.658092\n",
      "Name: count, dtype: float64\n"
     ]
    }
   ],
   "source": [
    "# Encontrar los 5 municipios más frecuentes y sus porcentajes\n",
    "def top5Municipios(data, columna):\n",
    "    \"\"\"\n",
    "    Encuentra los 5 municipios que más aparecen en la columna especificada y calcula su porcentaje.\n",
    "\n",
    "    Parámetros:\n",
    "    - data: DataFrame que contiene los datos.\n",
    "    - columna: Nombre de la columna de municipios.\n",
    "\n",
    "    Retorna:\n",
    "    - Un DataFrame con los 5 municipios más frecuentes y sus porcentajes.\n",
    "    \"\"\"\n",
    "    # Calcular la frecuencia de cada municipio\n",
    "    conteo_municipios = data[columna].value_counts()\n",
    "\n",
    "    # Calcular el porcentaje para cada municipio\n",
    "    porcentaje_municipios = (conteo_municipios / len(data)) * 100\n",
    "\n",
    "    # Seleccionar los 5 municipios más frecuentes\n",
    "    top_5_municipios = porcentaje_municipios.head(5)\n",
    "\n",
    "    return top_5_municipios\n",
    "\n",
    "# Obtener los 5 municipios más frecuentes y sus porcentajes\n",
    "top_municipios = top5Municipios(data, 'MUNICIPIO')\n",
    "\n",
    "# Mostrar el resultado\n",
    "print(top_municipios)\n"
   ]
  },
  {
   "cell_type": "code",
   "execution_count": 20,
   "metadata": {},
   "outputs": [
    {
     "name": "stdout",
     "output_type": "stream",
     "text": [
      "🔍 Contando categorías en la columna 'MUNICIPIO'...\n",
      "📊 Conteo de cada categoría:\n"
     ]
    },
    {
     "data": {
      "text/plain": [
       "MUNICIPIO\n",
       "Otros                     4080\n",
       "ZONA 1                     633\n",
       "MIXCO                      428\n",
       "VILLA NUEVA                370\n",
       "QUETZALTENANGO             248\n",
       "                          ... \n",
       "SAN FRANCISCO LA UNION       1\n",
       "SAN JUAN ATITAN              1\n",
       "SAN MIGUEL SIGUILA           1\n",
       "SANTA BARBARA                1\n",
       "ZUNIL                        1\n",
       "Name: count, Length: 137, dtype: int64"
      ]
     },
     "metadata": {},
     "output_type": "display_data"
    },
    {
     "data": {
      "text/plain": [
       "MUNICIPIO\n",
       "Otros                     4080\n",
       "ZONA 1                     633\n",
       "MIXCO                      428\n",
       "VILLA NUEVA                370\n",
       "QUETZALTENANGO             248\n",
       "                          ... \n",
       "SAN FRANCISCO LA UNION       1\n",
       "SAN JUAN ATITAN              1\n",
       "SAN MIGUEL SIGUILA           1\n",
       "SANTA BARBARA                1\n",
       "ZUNIL                        1\n",
       "Name: count, Length: 137, dtype: int64"
      ]
     },
     "execution_count": 20,
     "metadata": {},
     "output_type": "execute_result"
    }
   ],
   "source": [
    "# Contar categorías para una columna específica\n",
    "contarCategorias(data, 'MUNICIPIO')"
   ]
  },
  {
   "cell_type": "code",
   "execution_count": 21,
   "metadata": {},
   "outputs": [
    {
     "name": "stdout",
     "output_type": "stream",
     "text": [
      "🔍 Contando categorías en la columna 'DISTRITO'...\n",
      "📊 Conteo de cada categoría:\n"
     ]
    },
    {
     "data": {
      "text/plain": [
       "DISTRITO\n",
       "Otros    4072\n",
       "01       2896\n",
       "05        617\n",
       "12        555\n",
       "13        510\n",
       "09        472\n",
       "Name: count, dtype: int64"
      ]
     },
     "metadata": {},
     "output_type": "display_data"
    },
    {
     "data": {
      "text/plain": [
       "DISTRITO\n",
       "Otros    4072\n",
       "01       2896\n",
       "05        617\n",
       "12        555\n",
       "13        510\n",
       "09        472\n",
       "Name: count, dtype: int64"
      ]
     },
     "execution_count": 21,
     "metadata": {},
     "output_type": "execute_result"
    }
   ],
   "source": [
    "# Verificar el resultado\n",
    "contarCategorias(data, 'DISTRITO')"
   ]
  },
  {
   "cell_type": "code",
   "execution_count": 22,
   "metadata": {},
   "outputs": [],
   "source": [
    "data.to_csv('UnifiedData/UnifiedDataV4.csv', index=False)"
   ]
  }
 ],
 "metadata": {
  "kernelspec": {
   "display_name": "Python 3",
   "language": "python",
   "name": "python3"
  },
  "language_info": {
   "codemirror_mode": {
    "name": "ipython",
    "version": 3
   },
   "file_extension": ".py",
   "mimetype": "text/x-python",
   "name": "python",
   "nbconvert_exporter": "python",
   "pygments_lexer": "ipython3",
   "version": "3.10.11"
  }
 },
 "nbformat": 4,
 "nbformat_minor": 2
}
